{
 "cells": [
  {
   "cell_type": "code",
   "execution_count": 1,
   "metadata": {},
   "outputs": [],
   "source": [
    "import os\n",
    "import dlib\n",
    "import cv2 as cv\n",
    "import face_recognition as fr\n",
    "import numpy as np\n",
    "from PIL import Image, ImageDraw, ImageFont"
   ]
  },
  {
   "cell_type": "markdown",
   "metadata": {},
   "source": [
    "## 训练"
   ]
  },
  {
   "cell_type": "code",
   "execution_count": 2,
   "metadata": {},
   "outputs": [],
   "source": [
    "# 训练集结果存储\n",
    "Face_encodings = []\n",
    "Face_names = []\n",
    "\n",
    "root_dir = \"./example\"\n",
    "\n",
    "# 读取所有训练数据进行训练\n",
    "for file in os.listdir(root_dir):\n",
    "    file_name = root_dir + \"/\" + file    \n",
    "    image = fr.load_image_file(file_name)\n",
    "    face_encoding = fr.face_encodings(image)[0]\n",
    "    Face_encodings.append(face_encoding)\n",
    "    (Name, extension) = os.path.splitext(file)\n",
    "    Face_names.append(Name)"
   ]
  },
  {
   "cell_type": "code",
   "execution_count": 3,
   "metadata": {},
   "outputs": [],
   "source": [
    "# 在图片上输出中文字符\n",
    "def cv2ImgAddText(img, text, left, top, textColor=(255, 255, 255), textSize=20):\n",
    "    if (isinstance(img, np.ndarray)):  # 判断是否OpenCV图片类型\n",
    "        img = Image.fromarray(cv.cvtColor(img, cv.COLOR_BGR2RGB))\n",
    "    # 创建一个可以在给定图像上绘图的对象\n",
    "    draw = ImageDraw.Draw(img)\n",
    "    # 字体的格式\n",
    "    fontStyle = ImageFont.truetype(\"font/simsun.ttc\", textSize, encoding=\"utf-8\")\n",
    "    # 绘制文本\n",
    "    draw.text((left, top), text, textColor, font=fontStyle)\n",
    "    # 转换回OpenCV格式\n",
    "    return cv.cvtColor(np.asarray(img), cv.COLOR_RGB2BGR)\n"
   ]
  },
  {
   "cell_type": "code",
   "execution_count": 4,
   "metadata": {},
   "outputs": [],
   "source": [
    "# 调用笔记本摄像头，参数一般为0\n",
    "# cap是摄像头对象\n",
    "cap = cv.VideoCapture(0)\n",
    "\n",
    "face_locations = []\n",
    "face_encodings = []\n",
    "face_names = []\n",
    "process_this_frame = True\n",
    "\n",
    "\n",
    "# 在while循环中，利用摄像头对象的read()函数读取视频的某帧并显示。\n",
    "# 然后等待1个单位时间，如果期间检测到了键盘输入q，则退出，即关闭窗口。\n",
    "while(1):\n",
    "    try:\n",
    "        ret, frame = cap.read()\n",
    "        if True == ret:   \n",
    "            # 压缩图片到1/4大小，加快识别速度\n",
    "            small_frame = cv.resize(frame, (0, 0), fx=0.25, fy=0.25)\n",
    "\n",
    "            # OpenCV  BGR\n",
    "            # face_cognition RGB\n",
    "            # BGR  to    RGB\n",
    "            rgb_small_frame = small_frame[:, :, ::-1]\n",
    "\n",
    "            if process_this_frame:\n",
    "                # 找出所有的人脸 与 人脸特征向量\n",
    "                face_locations = fr.face_locations(rgb_small_frame)\n",
    "                face_encodings = fr.face_encodings(rgb_small_frame, face_locations)\n",
    "\n",
    "                face_names = []\n",
    "                for face_encoding in face_encodings:\n",
    "                    # 与已知的人脸特征向量比对\n",
    "                    matches = fr.compare_faces(Face_encodings, face_encoding)\n",
    "                    name = u\"Unknown\"\n",
    "\n",
    "                    face_distances = fr.face_distance(Face_encodings, face_encoding)\n",
    "                    best_match_index = np.argmin(face_distances)\n",
    "                    if matches[best_match_index]:\n",
    "                        name = Face_names[best_match_index]\n",
    "                    face_names.append(name)\n",
    "\n",
    "            process_this_frame = not process_this_frame\n",
    "\n",
    "\n",
    "            # 展示结果\n",
    "            for (top, right, bottom, left), name in zip(face_locations, face_names):\n",
    "                # 转回原来的大小\n",
    "                top *= 4\n",
    "                right *= 4\n",
    "                bottom *= 4\n",
    "                left *= 4\n",
    "\n",
    "                # 矩形框脸\n",
    "                cv.rectangle(frame, (left, top), (right, bottom), (0, 255, 0), 2)\n",
    "\n",
    "                # 脸下方画标签\n",
    "                cv.rectangle(frame, (left, bottom - 35), (right, bottom), (0, 255, 0), cv.FILLED)\n",
    "                font = cv.FONT_HERSHEY_DUPLEX\n",
    "                \n",
    "                # opencv 不支持汉字标签\n",
    "                #cv.putText(frame,name, (left + 6, bottom - 6), font, 1.0, (255, 255, 255), 1)\n",
    "                frame =  cv2ImgAddText(frame,name,(left+(right-left)/4), bottom - 30, (255, 0, 0),30)\n",
    "\n",
    "            cv.imshow('FaceRecognition', frame)\n",
    "            if cv.waitKey(1) & 0xFF == ord('q'):\n",
    "                break\n",
    "    except Exception as e:\n",
    "        print(e)\n",
    "        break\n",
    "            \n",
    "            \n",
    "# 释放摄像头对象，关闭所有图像窗口\n",
    "cap.release()\n",
    "cv.destroyAllWindows()"
   ]
  },
  {
   "cell_type": "code",
   "execution_count": null,
   "metadata": {},
   "outputs": [],
   "source": []
  }
 ],
 "metadata": {
  "kernelspec": {
   "display_name": "Python 3",
   "language": "python",
   "name": "python3"
  },
  "language_info": {
   "codemirror_mode": {
    "name": "ipython",
    "version": 3
   },
   "file_extension": ".py",
   "mimetype": "text/x-python",
   "name": "python",
   "nbconvert_exporter": "python",
   "pygments_lexer": "ipython3",
   "version": "3.6.10"
  }
 },
 "nbformat": 4,
 "nbformat_minor": 4
}
